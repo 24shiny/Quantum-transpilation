{
 "cells": [
  {
   "cell_type": "code",
   "execution_count": 140,
   "id": "f5e06295-5497-456a-9da5-15d4ca583434",
   "metadata": {},
   "outputs": [],
   "source": [
    "import pennylane as qml\n",
    "import numpy as np\n",
    "from math import pi\n",
    "from pennylane.transforms import compile\n",
    "import matplotlib.pyplot as plt\n",
    "import pandas as pd"
   ]
  },
  {
   "cell_type": "code",
   "execution_count": 120,
   "id": "157fc9f2-32f4-41ca-90fc-0cb89ce46b61",
   "metadata": {},
   "outputs": [],
   "source": [
    "from qiskit import QuantumCircuit, transpile\n",
    "from qiskit_aer import Aer\n",
    "from qiskit.visualization import plot_circuit_layout, circuit_drawer\n",
    "from qiskit.circuit.library import UnitaryGate"
   ]
  },
  {
   "cell_type": "code",
   "execution_count": 21,
   "id": "db39456b-10b0-4866-9c0a-3f4b116723d8",
   "metadata": {},
   "outputs": [],
   "source": [
    "# Create a bloated circuit with 4 qubits\n",
    "qc = QuantumCircuit(4)\n",
    "\n",
    "# Redundant gates and inefficient layout\n",
    "qc.h(0)\n",
    "qc.h(0)  # Cancels out with previous H\n",
    "qc.cx(0, 1)\n",
    "qc.cx(1, 0)  # Reversible CX pair\n",
    "qc.swap(0, 2)\n",
    "qc.swap(2, 0)  # Double swap = identity\n",
    "qc.rx(0.5, 3)\n",
    "qc.rx(-0.5, 3)  # Cancels out\n",
    "qc.rz(0.25, 1)\n",
    "qc.rz(0.25, 1)  # Can be merged\n",
    "qc.cx(2, 3)\n",
    "qc.cx(3, 2)  # Reversible again\n",
    "qc.measure_all()"
   ]
  },
  {
   "cell_type": "code",
   "execution_count": 32,
   "id": "4f688426-8f7a-41f0-b78a-9c66356343ed",
   "metadata": {},
   "outputs": [
    {
     "data": {
      "text/html": [
       "<pre style=\"word-wrap: normal;white-space: pre;background: #fff0;line-height: 1.1;font-family: &quot;Courier New&quot;,Courier,monospace\">           ┌───┐      ┌───┐         ┌───┐                                    ░ »\n",
       "   q_0: ───┤ H ├──────┤ H ├──────■──┤ X ├─X──────────────X───────────────────░─»\n",
       "           └───┘      └───┘    ┌─┴─┐└─┬─┘ │ ┌──────────┐ │ ┌──────────┐      ░ »\n",
       "   q_1: ───────────────────────┤ X ├──■───┼─┤ Rz(0.25) ├─┼─┤ Rz(0.25) ├──────░─»\n",
       "                               └───┘      │ └──────────┘ │ └──────────┘┌───┐ ░ »\n",
       "   q_2: ──────────────────────────────────X──────────────X──────■──────┤ X ├─░─»\n",
       "        ┌─────────┐┌──────────┐                               ┌─┴─┐    └─┬─┘ ░ »\n",
       "   q_3: ┤ Rx(0.5) ├┤ Rx(-0.5) ├───────────────────────────────┤ X ├──────■───░─»\n",
       "        └─────────┘└──────────┘                               └───┘          ░ »\n",
       "meas: 4/═══════════════════════════════════════════════════════════════════════»\n",
       "                                                                               »\n",
       "«        ┌─┐         \n",
       "«   q_0: ┤M├─────────\n",
       "«        └╥┘┌─┐      \n",
       "«   q_1: ─╫─┤M├──────\n",
       "«         ║ └╥┘┌─┐   \n",
       "«   q_2: ─╫──╫─┤M├───\n",
       "«         ║  ║ └╥┘┌─┐\n",
       "«   q_3: ─╫──╫──╫─┤M├\n",
       "«         ║  ║  ║ └╥┘\n",
       "«meas: 4/═╩══╩══╩══╩═\n",
       "«         0  1  2  3 </pre>"
      ],
      "text/plain": [
       "           ┌───┐      ┌───┐         ┌───┐                                    ░ »\n",
       "   q_0: ───┤ H ├──────┤ H ├──────■──┤ X ├─X──────────────X───────────────────░─»\n",
       "           └───┘      └───┘    ┌─┴─┐└─┬─┘ │ ┌──────────┐ │ ┌──────────┐      ░ »\n",
       "   q_1: ───────────────────────┤ X ├──■───┼─┤ Rz(0.25) ├─┼─┤ Rz(0.25) ├──────░─»\n",
       "                               └───┘      │ └──────────┘ │ └──────────┘┌───┐ ░ »\n",
       "   q_2: ──────────────────────────────────X──────────────X──────■──────┤ X ├─░─»\n",
       "        ┌─────────┐┌──────────┐                               ┌─┴─┐    └─┬─┘ ░ »\n",
       "   q_3: ┤ Rx(0.5) ├┤ Rx(-0.5) ├───────────────────────────────┤ X ├──────■───░─»\n",
       "        └─────────┘└──────────┘                               └───┘          ░ »\n",
       "meas: 4/═══════════════════════════════════════════════════════════════════════»\n",
       "                                                                               »\n",
       "«        ┌─┐         \n",
       "«   q_0: ┤M├─────────\n",
       "«        └╥┘┌─┐      \n",
       "«   q_1: ─╫─┤M├──────\n",
       "«         ║ └╥┘┌─┐   \n",
       "«   q_2: ─╫──╫─┤M├───\n",
       "«         ║  ║ └╥┘┌─┐\n",
       "«   q_3: ─╫──╫──╫─┤M├\n",
       "«         ║  ║  ║ └╥┘\n",
       "«meas: 4/═╩══╩══╩══╩═\n",
       "«         0  1  2  3 "
      ]
     },
     "execution_count": 32,
     "metadata": {},
     "output_type": "execute_result"
    }
   ],
   "source": [
    "qc.draw()"
   ]
  },
  {
   "cell_type": "code",
   "execution_count": 37,
   "id": "6dd03820-01b4-4de4-933f-7528134ae3b2",
   "metadata": {},
   "outputs": [],
   "source": [
    "def summary_qiskit(qc):\n",
    "    counts = {\"1-qubit\": 0, \"2-qubit\": 0}\n",
    "    for inst in qc.data:\n",
    "        if isinstance(inst.operation, Gate):  # Skip measurements and non-gates\n",
    "            num_qubits = len(inst.qubits)\n",
    "            if num_qubits == 1:\n",
    "                counts[\"1-qubit\"] += 1\n",
    "            elif num_qubits == 2:\n",
    "                counts[\"2-qubit\"] += 1\n",
    "    return [qc.num_qubits, qc.size(), counts['1-qubit'], counts['2-qubit'], qc.depth()]"
   ]
  },
  {
   "cell_type": "code",
   "execution_count": 28,
   "id": "392271e3-e190-43f4-bff4-b0b8564d109d",
   "metadata": {},
   "outputs": [
    {
     "data": {
      "text/plain": [
       "[4, 16, 6, 6, 9]"
      ]
     },
     "execution_count": 28,
     "metadata": {},
     "output_type": "execute_result"
    }
   ],
   "source": [
    "summary_qiskit(qc)"
   ]
  },
  {
   "cell_type": "code",
   "execution_count": 90,
   "id": "07b7740a-a792-4b07-84de-5a347851400c",
   "metadata": {},
   "outputs": [
    {
     "data": {
      "text/plain": [
       "[4, 11, 1, 6, 7]"
      ]
     },
     "execution_count": 90,
     "metadata": {},
     "output_type": "execute_result"
    }
   ],
   "source": [
    "# Transpile with qiskit\n",
    "backend = Aer.get_backend('qasm_simulator')\n",
    "transpiled_qiskit_2 = transpile(qc, backend) # level 2\n",
    "summary_qiskit(transpiled_qiskit_2)"
   ]
  },
  {
   "cell_type": "code",
   "execution_count": 35,
   "id": "14f3961c-62e9-4cd3-a90c-3533e8dab129",
   "metadata": {},
   "outputs": [
    {
     "data": {
      "text/html": [
       "<pre style=\"word-wrap: normal;white-space: pre;background: #fff0;line-height: 1.1;font-family: &quot;Courier New&quot;,Courier,monospace\">global phase: 6.0332\n",
       "             ┌───┐                            ░ ┌─┐         \n",
       "   q_0: ──■──┤ X ├────────────X──X────────────░─┤M├─────────\n",
       "        ┌─┴─┐└─┬─┘┌─────────┐ │  │            ░ └╥┘┌─┐      \n",
       "   q_1: ┤ X ├──■──┤ U1(0.5) ├─┼──┼────────────░──╫─┤M├──────\n",
       "        └───┘     └─────────┘ │  │      ┌───┐ ░  ║ └╥┘┌─┐   \n",
       "   q_2: ──────────────────────X──X───■──┤ X ├─░──╫──╫─┤M├───\n",
       "                                   ┌─┴─┐└─┬─┘ ░  ║  ║ └╥┘┌─┐\n",
       "   q_3: ───────────────────────────┤ X ├──■───░──╫──╫──╫─┤M├\n",
       "                                   └───┘      ░  ║  ║  ║ └╥┘\n",
       "meas: 4/═════════════════════════════════════════╩══╩══╩══╩═\n",
       "                                                 0  1  2  3 </pre>"
      ],
      "text/plain": [
       "global phase: 6.0332\n",
       "             ┌───┐                            ░ ┌─┐         \n",
       "   q_0: ──■──┤ X ├────────────X──X────────────░─┤M├─────────\n",
       "        ┌─┴─┐└─┬─┘┌─────────┐ │  │            ░ └╥┘┌─┐      \n",
       "   q_1: ┤ X ├──■──┤ U1(0.5) ├─┼──┼────────────░──╫─┤M├──────\n",
       "        └───┘     └─────────┘ │  │      ┌───┐ ░  ║ └╥┘┌─┐   \n",
       "   q_2: ──────────────────────X──X───■──┤ X ├─░──╫──╫─┤M├───\n",
       "                                   ┌─┴─┐└─┬─┘ ░  ║  ║ └╥┘┌─┐\n",
       "   q_3: ───────────────────────────┤ X ├──■───░──╫──╫──╫─┤M├\n",
       "                                   └───┘      ░  ║  ║  ║ └╥┘\n",
       "meas: 4/═════════════════════════════════════════╩══╩══╩══╩═\n",
       "                                                 0  1  2  3 "
      ]
     },
     "execution_count": 35,
     "metadata": {},
     "output_type": "execute_result"
    }
   ],
   "source": [
    "transpiled_qiskit_2.draw()"
   ]
  },
  {
   "cell_type": "code",
   "execution_count": 91,
   "id": "d3db134e-4bb6-4ed6-a838-6be7a6c24a85",
   "metadata": {},
   "outputs": [
    {
     "name": "stdout",
     "output_type": "stream",
     "text": [
      "[4, 9, 1, 4, 4]\n"
     ]
    },
    {
     "data": {
      "text/html": [
       "<pre style=\"word-wrap: normal;white-space: pre;background: #fff0;line-height: 1.1;font-family: &quot;Courier New&quot;,Courier,monospace\">                                            ┌───┐            ░ ┌─┐         \n",
       "Qubit(QuantumRegister(4, 'q'), 0) -> 0 ──■──┤ X ├────────────░─┤M├─────────\n",
       "                                       ┌─┴─┐└─┬─┘┌─────────┐ ░ └╥┘┌─┐      \n",
       "Qubit(QuantumRegister(4, 'q'), 1) -> 1 ┤ X ├──■──┤ Rz(0.5) ├─░──╫─┤M├──────\n",
       "                                       └───┘┌───┐└─────────┘ ░  ║ └╥┘┌─┐   \n",
       "Qubit(QuantumRegister(4, 'q'), 2) -> 2 ──■──┤ X ├────────────░──╫──╫─┤M├───\n",
       "                                       ┌─┴─┐└─┬─┘            ░  ║  ║ └╥┘┌─┐\n",
       "Qubit(QuantumRegister(4, 'q'), 3) -> 3 ┤ X ├──■──────────────░──╫──╫──╫─┤M├\n",
       "                                       └───┘                 ░  ║  ║  ║ └╥┘\n",
       "                               meas: 4/═════════════════════════╩══╩══╩══╩═\n",
       "                                                                0  1  2  3 </pre>"
      ],
      "text/plain": [
       "                                            ┌───┐            ░ ┌─┐         \n",
       "Qubit(QuantumRegister(4, 'q'), 0) -> 0 ──■──┤ X ├────────────░─┤M├─────────\n",
       "                                       ┌─┴─┐└─┬─┘┌─────────┐ ░ └╥┘┌─┐      \n",
       "Qubit(QuantumRegister(4, 'q'), 1) -> 1 ┤ X ├──■──┤ Rz(0.5) ├─░──╫─┤M├──────\n",
       "                                       └───┘┌───┐└─────────┘ ░  ║ └╥┘┌─┐   \n",
       "Qubit(QuantumRegister(4, 'q'), 2) -> 2 ──■──┤ X ├────────────░──╫──╫─┤M├───\n",
       "                                       ┌─┴─┐└─┬─┘            ░  ║  ║ └╥┘┌─┐\n",
       "Qubit(QuantumRegister(4, 'q'), 3) -> 3 ┤ X ├──■──────────────░──╫──╫──╫─┤M├\n",
       "                                       └───┘                 ░  ║  ║  ║ └╥┘\n",
       "                               meas: 4/═════════════════════════╩══╩══╩══╩═\n",
       "                                                                0  1  2  3 "
      ]
     },
     "execution_count": 91,
     "metadata": {},
     "output_type": "execute_result"
    }
   ],
   "source": [
    "transpiled_qiskit_3 = transpile(qc, backend, optimization_level=3) # level 3\n",
    "print(summary_qiskit(transpiled_qiskit_3))\n",
    "transpiled_qiskit_3.draw()"
   ]
  },
  {
   "cell_type": "code",
   "execution_count": 88,
   "id": "3b12fc6c-1e28-4cd8-83a9-aeef64efae95",
   "metadata": {},
   "outputs": [
    {
     "name": "stderr",
     "output_type": "stream",
     "text": [
      "Matplotlib is building the font cache; this may take a moment.\n"
     ]
    },
    {
     "data": {
      "image/png": "[encoded data removed]",
      "text/plain": [
       "<Figure size 1300x500 with 1 Axes>"
      ]
     },
     "metadata": {},
     "output_type": "display_data"
    }
   ],
   "source": [
    "pc_penny = qml.from_qiskit(qc)\n",
    "num_q = qc.num_qubits\n",
    "dev = qml.device(\"default.qubit\", wires=num_q)\n",
    "\n",
    "@qml.qnode(dev)\n",
    "def circuit():\n",
    "    pc_penny(wires=range(num_q))\n",
    "    return qml.state()\n",
    "\n",
    "qml.draw_mpl(circuit, style='pennylane')()\n",
    "plt.show()"
   ]
  },
  {
   "cell_type": "code",
   "execution_count": 75,
   "id": "f9a5b4a8-9c34-4683-9b9b-a60c8fa3cfdc",
   "metadata": {},
   "outputs": [
    {
     "data": {
      "image/png": "[encoded data removed]",
      "text/plain": [
       "<Figure size 700x500 with 1 Axes>"
      ]
     },
     "metadata": {},
     "output_type": "display_data"
    }
   ],
   "source": [
    "transpiled_penny = compile(circuit)\n",
    "qml.draw_mpl(transpiled_penny, style='pennylane')()\n",
    "plt.show()"
   ]
  },
  {
   "cell_type": "code",
   "execution_count": 78,
   "id": "198921ad-2159-4e2c-9236-bc918cf27f44",
   "metadata": {},
   "outputs": [
    {
     "data": {
      "text/plain": [
       "[4, 17, 10, 6, 10]"
      ]
     },
     "execution_count": 78,
     "metadata": {},
     "output_type": "execute_result"
    }
   ],
   "source": [
    "def summary_penny(circuit):\n",
    "    obj = qml.specs(circuit)()['resources']\n",
    "    return [obj.num_wires, obj.num_gates, obj.gate_sizes[1], obj.gate_sizes[2], obj.depth]\n",
    "\n",
    "summary_penny(circuit)"
   ]
  },
  {
   "cell_type": "code",
   "execution_count": 79,
   "id": "6c4a7bfa-b193-4ac5-8499-b3e50684fd3a",
   "metadata": {},
   "outputs": [
    {
     "data": {
      "text/plain": [
       "[4, 9, 5, 4, 4]"
      ]
     },
     "execution_count": 79,
     "metadata": {},
     "output_type": "execute_result"
    }
   ],
   "source": [
    "summary_penny(transpiled_penny)"
   ]
  },
  {
   "cell_type": "code",
   "execution_count": 93,
   "id": "db5fc931-f705-4c38-8343-1cb86d87f9c3",
   "metadata": {},
   "outputs": [
    {
     "data": {
      "text/html": [
       "<div>\n",
       "<style scoped>\n",
       "    .dataframe tbody tr th:only-of-type {\n",
       "        vertical-align: middle;\n",
       "    }\n",
       "\n",
       "    .dataframe tbody tr th {\n",
       "        vertical-align: top;\n",
       "    }\n",
       "\n",
       "    .dataframe thead th {\n",
       "        text-align: right;\n",
       "    }\n",
       "</style>\n",
       "<table border=\"1\" class=\"dataframe\">\n",
       "  <thead>\n",
       "    <tr style=\"text-align: right;\">\n",
       "      <th></th>\n",
       "      <th>original</th>\n",
       "      <th>qiskit_2</th>\n",
       "      <th>qiskit_3</th>\n",
       "      <th>penny</th>\n",
       "    </tr>\n",
       "  </thead>\n",
       "  <tbody>\n",
       "    <tr>\n",
       "      <th>qubits</th>\n",
       "      <td>4</td>\n",
       "      <td>4</td>\n",
       "      <td>4</td>\n",
       "      <td>4</td>\n",
       "    </tr>\n",
       "    <tr>\n",
       "      <th>gates</th>\n",
       "      <td>16</td>\n",
       "      <td>11</td>\n",
       "      <td>9</td>\n",
       "      <td>9</td>\n",
       "    </tr>\n",
       "    <tr>\n",
       "      <th>1q gates</th>\n",
       "      <td>6</td>\n",
       "      <td>1</td>\n",
       "      <td>1</td>\n",
       "      <td>5</td>\n",
       "    </tr>\n",
       "    <tr>\n",
       "      <th>2q gates</th>\n",
       "      <td>6</td>\n",
       "      <td>6</td>\n",
       "      <td>4</td>\n",
       "      <td>4</td>\n",
       "    </tr>\n",
       "    <tr>\n",
       "      <th>depth</th>\n",
       "      <td>9</td>\n",
       "      <td>7</td>\n",
       "      <td>4</td>\n",
       "      <td>4</td>\n",
       "    </tr>\n",
       "  </tbody>\n",
       "</table>\n",
       "</div>"
      ],
      "text/plain": [
       "          original  qiskit_2  qiskit_3  penny\n",
       "qubits           4         4         4      4\n",
       "gates           16        11         9      9\n",
       "1q gates         6         1         1      5\n",
       "2q gates         6         6         4      4\n",
       "depth            9         7         4      4"
      ]
     },
     "execution_count": 93,
     "metadata": {},
     "output_type": "execute_result"
    }
   ],
   "source": [
    "df = pd.DataFrame(columns=['original','qiskit_2','qiskit_3','penny'])\n",
    "df['original'] = summary_qiskit(qc)\n",
    "df['qiskit_2'] = summary_qiskit(transpiled_qiskit_2)\n",
    "df['qiskit_3'] = summary_qiskit(transpiled_qiskit_3)\n",
    "df['penny'] = summary_penny(transpiled_penny)\n",
    "df.index = ['qubits', 'gates', '1q gates', '2q gates', 'depth']\n",
    "df"
   ]
  },
  {
   "cell_type": "code",
   "execution_count": 94,
   "id": "4068e606-4236-4a52-b788-e863540a3115",
   "metadata": {},
   "outputs": [],
   "source": [
    "def make_table(qc):\n",
    "    df = pd.DataFrame(columns=['original','qiskit_2','qiskit_3','penny'])\n",
    "    df['original'] = summary_qiskit(qc)\n",
    "    df['qiskit_2'] = summary_qiskit(transpiled_qiskit_2)\n",
    "    df['qiskit_3'] = summary_qiskit(transpiled_qiskit_3)\n",
    "    df['penny'] = summary_penny(transpiled_penny)\n",
    "    df.index = ['qubits', 'gates', '1q gates', '2q gates', 'depth']\n",
    "    print(df)"
   ]
  },
  {
   "cell_type": "code",
   "execution_count": 95,
   "id": "8019a30e-5d4a-490d-8181-1b13ce24d956",
   "metadata": {},
   "outputs": [
    {
     "name": "stdout",
     "output_type": "stream",
     "text": [
      "          original  qiskit_2  qiskit_3  penny\n",
      "qubits           4         4         4      4\n",
      "gates           16        11         9      9\n",
      "1q gates         6         1         1      5\n",
      "2q gates         6         6         4      4\n",
      "depth            9         7         4      4\n"
     ]
    }
   ],
   "source": [
    "make_table(qc)"
   ]
  },
  {
   "cell_type": "code",
   "execution_count": 98,
   "id": "e32d4bb8-db26-42a0-bcd4-ea2ad29ebe46",
   "metadata": {},
   "outputs": [],
   "source": [
    "# test with a sample form ketgpt\n",
    "# Mapping from PennyLane to Qiskit\n",
    "[ds] = qml.data.load(\"ketgpt\")\n",
    "@qml.qnode(qml.device('default.qubit'))\n",
    "def circuit(): # 0 to 999\n",
    "    for op in ds.circuits[0]:\n",
    "        qml.apply(op)\n",
    "    return qml.state()"
   ]
  },
  {
   "cell_type": "code",
   "execution_count": 115,
   "id": "ab3634bb-5ffd-4344-8beb-70446b72a468",
   "metadata": {},
   "outputs": [],
   "source": [
    "sample_q_num = qml.specs(circuit)()['resources'].num_wires"
   ]
  },
  {
   "cell_type": "code",
   "execution_count": 99,
   "id": "5e3c0586-6fe2-48a4-9c74-f3079c16f028",
   "metadata": {},
   "outputs": [
    {
     "data": {
      "text/plain": [
       "[{'name': 'Hadamard', 'wires': [0], 'params': []},\n",
       " {'name': 'Hadamard', 'wires': [1], 'params': []},\n",
       " {'name': 'Hadamard', 'wires': [2], 'params': []}]"
      ]
     },
     "execution_count": 99,
     "metadata": {},
     "output_type": "execute_result"
    }
   ],
   "source": [
    "gate_name = []\n",
    "gate_info = []\n",
    "for op in ds.circuits[0]:\n",
    "    name = op.name\n",
    "    gate_name.append(name)\n",
    "    wires = [int(w) for w in op.wires]\n",
    "    params = op.parameters\n",
    "    gate_info.append({\n",
    "        \"name\": name,\n",
    "        \"wires\": wires,\n",
    "        \"params\": params,\n",
    "    })\n",
    "gate_info[:3]"
   ]
  },
  {
   "cell_type": "code",
   "execution_count": 141,
   "id": "ad31b7bf-96af-4d9b-b6e1-365175adf1e5",
   "metadata": {},
   "outputs": [],
   "source": [
    "def to_qiskit(dict_elem):\n",
    "    name = dict_elem['name']\n",
    "    wire = dict_elem['wires']\n",
    "    param = dict_elem['params']\n",
    "    if name == 'Hadamard':\n",
    "        qc.h(wire[0])\n",
    "    if name == 'PauliX':\n",
    "        qc.x(wire[0])\n",
    "    if name == 'CNOT':\n",
    "        qc.cx(wire[0],wire[1])\n",
    "    if name == 'CZ':\n",
    "        qc.cz(wire[0],wire[1])    \n",
    "    if name == 'QubitUnitary':\n",
    "        qc.append(UnitaryGate(param[0]),wire)\n",
    "    if name == 'U2':\n",
    "        qc.u(pi/2, param[0], param[1], wire[0])"
   ]
  },
  {
   "cell_type": "code",
   "execution_count": 142,
   "id": "42c2ab15-656e-49f3-8262-a5334fde1b69",
   "metadata": {},
   "outputs": [
    {
     "data": {
      "text/plain": [
       "'Hadamard'"
      ]
     },
     "execution_count": 142,
     "metadata": {},
     "output_type": "execute_result"
    }
   ],
   "source": [
    "gate_info[0]['name']"
   ]
  },
  {
   "cell_type": "code",
   "execution_count": 143,
   "id": "8c83f99a-8987-42f6-8ecf-4c36e776a562",
   "metadata": {},
   "outputs": [],
   "source": [
    "# Create a bloated circuit with 4 qubits\n",
    "qc = QuantumCircuit(sample_q_num)\n",
    "for dict_elem in gate_info:\n",
    "    to_qiskit(dict_elem)\n",
    "qc.measure_all()"
   ]
  },
  {
   "cell_type": "code",
   "execution_count": 144,
   "id": "4f277855-d9f5-48ce-bb12-f58b6372dd87",
   "metadata": {},
   "outputs": [
    {
     "name": "stdout",
     "output_type": "stream",
     "text": [
      "          original  qiskit_2  qiskit_3  penny\n",
      "qubits          13         4         4      4\n",
      "gates          218        11         9      9\n",
      "1q gates       116         1         1      5\n",
      "2q gates        89         6         4      4\n",
      "depth           73         7         4      4\n"
     ]
    }
   ],
   "source": [
    "make_table(qc)"
   ]
  },
  {
   "cell_type": "code",
   "execution_count": null,
   "id": "978b693c-9e91-4cd0-aa1e-8421f7b7adc5",
   "metadata": {},
   "outputs": [],
   "source": []
  }
 ],
 "metadata": {
  "kernelspec": {
   "display_name": "Python 3 (ipykernel)",
   "language": "python",
   "name": "python3"
  },
  "language_info": {
   "codemirror_mode": {
    "name": "ipython",
    "version": 3
   },
   "file_extension": ".py",
   "mimetype": "text/x-python",
   "name": "python",
   "nbconvert_exporter": "python",
   "pygments_lexer": "ipython3",
   "version": "3.10.0"
  }
 },
 "nbformat": 4,
 "nbformat_minor": 5
}
