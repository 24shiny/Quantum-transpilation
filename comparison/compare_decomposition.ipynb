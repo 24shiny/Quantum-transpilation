{
 "cells": [
  {
   "cell_type": "code",
   "execution_count": 1,
   "id": "53ea991a",
   "metadata": {},
   "outputs": [
    {
     "name": "stdout",
     "output_type": "stream",
     "text": [
      "Processor    Qubit count    Native gates                    Features\n",
      "-----------  -------------  ------------------------------  ------------------------------------------------\n",
      "Falcon       27-65          CX, U1, U2, U3 (now RZ, SX, X)  used in many public devices\n",
      "Hummingbird  ~65            CX, RZ, SX, X                   Improved coherence and gate fidelity over Falcon\n",
      "Eagle        127            CZ, RZ, SX, X                   used in quantum utility benchmarks\n",
      "Heron        133            CZ, RZ, SX, X                   modular architecture\n",
      "Condor       1121           CZ, RZ, SX, X                   designed for scaling toward fault tolerance\n"
     ]
    }
   ],
   "source": [
    "from tabulate import tabulate\n",
    "\n",
    "data = [\n",
    "    ['Falcon', '27-65', 'CX, U1, U2, U3 (now RZ, SX, X)', 'used in many public devices'],\n",
    "    ['Hummingbird', '~65', 'CX, RZ, SX, X', 'Improved coherence and gate fidelity over Falcon'],\n",
    "    ['Eagle', 127, 'CZ, RZ, SX, X','used in quantum utility benchmarks'],\n",
    "    ['Heron', 133, 'CZ, RZ, SX, X', 'modular architecture'],\n",
    "    ['Condor', 1121, 'CZ, RZ, SX, X', 'designed for scaling toward fault tolerance']\n",
    "]\n",
    "\n",
    "headers = ['Processor', 'Qubit count', 'Native gates', 'Features']\n",
    "\n",
    "# Using the first row as headers\n",
    "print(tabulate(data, headers=headers))"
   ]
  },
  {
   "cell_type": "markdown",
   "id": "84e55052",
   "metadata": {},
   "source": [
    "Take the native gate sets —CZ, RZ, SX, X— into consideration this time."
   ]
  },
  {
   "cell_type": "code",
   "execution_count": 2,
   "id": "309c0077-ccca-429d-8457-1c11b7ea3fdd",
   "metadata": {},
   "outputs": [],
   "source": [
    "# basics\n",
    "import numpy as np\n",
    "import matplotlib.pyplot as plt\n",
    "import pandas as pd\n",
    "import random\n",
    "import math\n",
    "# penny\n",
    "import pennylane as qml\n",
    "from pennylane.transforms import compile, decompose\n",
    "from functools import partial\n",
    "from pennylane.math import fidelity_statevector as fidelity_penny\n",
    "# qiskit\n",
    "from qiskit import QuantumCircuit, transpile\n",
    "from qiskit.circuit import Gate\n",
    "from qiskit_aer import Aer, AerSimulator\n",
    "from qiskit.visualization import plot_circuit_layout, circuit_drawer\n",
    "from qiskit.circuit.library import UnitaryGate\n",
    "from qiskit.quantum_info import Statevector\n",
    "from qiskit.quantum_info import state_fidelity as fidelity_qiskit\n",
    "from math import pi\n",
    "import copy"
   ]
  },
  {
   "cell_type": "code",
   "execution_count": 3,
   "id": "dcb5a780",
   "metadata": {},
   "outputs": [],
   "source": [
    "[ds] = qml.data.load(\"ketgpt\")"
   ]
  },
  {
   "cell_type": "code",
   "execution_count": 24,
   "id": "c7da5d1b-9761-404e-ab5d-e4df0a441101",
   "metadata": {},
   "outputs": [],
   "source": [
    "random.seed(42)\n",
    "# seed = random.randint(0,1000)\n",
    "seed = 0\n",
    "\n",
    "@partial(decompose, gate_set={qml.CZ, qml.CNOT, qml.RZ, qml.RY, qml.RX, qml.SX, qml.PauliX})\n",
    "@qml.qnode(qml.device('default.qubit'))\n",
    "def circuit(): # 0 to 999\n",
    "    for op in ds.circuits[seed]:\n",
    "        qml.apply(op)\n",
    "    return qml.state()"
   ]
  },
  {
   "cell_type": "code",
   "execution_count": 25,
   "id": "5120775f-5866-4c44-8a80-79d830cd5cd5",
   "metadata": {},
   "outputs": [
    {
     "data": {
      "text/plain": [
       "[13, 1507, 1290, 217, 0, 437]"
      ]
     },
     "execution_count": 25,
     "metadata": {},
     "output_type": "execute_result"
    }
   ],
   "source": [
    "def summary_penny(circuit):\n",
    "    obj = qml.specs(circuit)()['resources']\n",
    "    temp = qml.specs(circuit)()['resources'].gate_types # dict\n",
    "    return [obj.num_wires, obj.num_gates, obj.gate_sizes[1], temp['CZ']+temp['CNOT'], temp['QubitUnitary'], obj.depth]\n",
    "    \n",
    "summary_penny(circuit)"
   ]
  },
  {
   "cell_type": "code",
   "execution_count": 12,
   "id": "fcdcb2a9-7178-4ffe-a56b-224a5eed3e27",
   "metadata": {},
   "outputs": [
    {
     "data": {
      "text/plain": [
       "[12, 1272, 1061, 211, 0, 398]"
      ]
     },
     "execution_count": 12,
     "metadata": {},
     "output_type": "execute_result"
    }
   ],
   "source": [
    "# compile\n",
    "transpiled_circuit = compile(circuit)\n",
    "summary_penny(transpiled_circuit)"
   ]
  },
  {
   "cell_type": "raw",
   "id": "9880ae12-2add-4785-8301-add643ecea5f",
   "metadata": {},
   "source": [
    "PennyLane to Qiskit"
   ]
  },
  {
   "cell_type": "code",
   "execution_count": 13,
   "id": "b55ac549-42e2-4ccf-b9ee-d9982d1b4d47",
   "metadata": {},
   "outputs": [
    {
     "data": {
      "text/plain": [
       "[{'name': 'Hadamard', 'wires': [0], 'params': []},\n",
       " {'name': 'Hadamard', 'wires': [1], 'params': []},\n",
       " {'name': 'Hadamard', 'wires': [2], 'params': []}]"
      ]
     },
     "execution_count": 13,
     "metadata": {},
     "output_type": "execute_result"
    }
   ],
   "source": [
    "gate_name = []\n",
    "gate_info = []\n",
    "for op in ds.circuits[seed]:\n",
    "    name = op.name\n",
    "    gate_name.append(name)\n",
    "    wires = [int(w) for w in op.wires]\n",
    "    params = op.parameters\n",
    "    gate_info.append({\n",
    "        \"name\": name,\n",
    "        \"wires\": wires,\n",
    "        \"params\": params,\n",
    "    })\n",
    "    \n",
    "gate_info[:3]"
   ]
  },
  {
   "cell_type": "code",
   "execution_count": 14,
   "id": "0654eab4-ae5e-427d-8e9f-9c6f5bcc0645",
   "metadata": {},
   "outputs": [],
   "source": [
    "def to_qiskit(qc, dict_elem):\n",
    "    name = dict_elem['name']\n",
    "    wire = dict_elem['wires']\n",
    "    param = dict_elem['params']\n",
    "    if name == 'Hadamard':\n",
    "        qc.h(wire[0])\n",
    "    if name == 'PauliX':\n",
    "        qc.x(wire[0])\n",
    "    if name == 'PauliY':\n",
    "        qc.y(wire[0])\n",
    "    if name == 'PauliZ':\n",
    "        qc.z(wire[0])\n",
    "    if name == 'CNOT':\n",
    "        qc.cx(wire[0],wire[1])\n",
    "    if name == 'CX':\n",
    "        qc.cx(wire[0],wire[1])  \n",
    "    if name == 'CY':\n",
    "        qc.cy(wire[0],wire[1])  \n",
    "    if name == 'CZ':\n",
    "        qc.cz(wire[0],wire[1])    \n",
    "    if name == 'QubitUnitary':\n",
    "        qc.append(UnitaryGate(param[0]),wire)\n",
    "    if name == 'U2':\n",
    "        qc.u(pi/2, param[0], param[1], wire[0])"
   ]
  },
  {
   "cell_type": "code",
   "execution_count": 80,
   "id": "e9db4086-ddb1-4895-8f93-8ce12ce54924",
   "metadata": {},
   "outputs": [],
   "source": [
    "sample_q_num = qml.specs(circuit)()['resources'].num_wires\n",
    "qc = QuantumCircuit(sample_q_num)\n",
    "for dict_elem in gate_info:\n",
    "    to_qiskit(qc, dict_elem)"
   ]
  },
  {
   "cell_type": "code",
   "execution_count": 81,
   "id": "ed634658-c97f-42dd-b622-e4e33d726bd0",
   "metadata": {},
   "outputs": [],
   "source": [
    "# Use AerSimulator to extend the circuit\n",
    "simulator = AerSimulator()\n",
    "qc.save_statevector()  # Now this works!\n",
    "\n",
    "# Run the simulation\n",
    "result = simulator.run(qc).result()\n",
    "statevector = result.data()['statevector']\n",
    "ref_state = statevector.data"
   ]
  },
  {
   "cell_type": "code",
   "execution_count": 82,
   "id": "58ae7afc",
   "metadata": {},
   "outputs": [
    {
     "data": {
      "text/plain": [
       "13"
      ]
     },
     "execution_count": 82,
     "metadata": {},
     "output_type": "execute_result"
    }
   ],
   "source": [
    "qc.num_qubits"
   ]
  },
  {
   "cell_type": "code",
   "execution_count": 83,
   "id": "00c62f10",
   "metadata": {},
   "outputs": [],
   "source": [
    "def summary_qiskit(qc):\n",
    "    counts = {'1q': 0, '2q': 0, 'U':0}\n",
    "    for gate in qc.data:\n",
    "        if len(gate.qubits) == 1:\n",
    "            counts['1q'] += 1\n",
    "        elif len(gate.qubits) == 2 and gate.name != 'unitary':\n",
    "            counts['2q'] += 1\n",
    "        elif len(gate.qubits) == 2 and gate.name == 'unitary':\n",
    "            counts['U'] += 1\n",
    "    return [qc.num_qubits, qc.size(), counts['1q'], counts['2q'], counts['U'], qc.depth()]"
   ]
  },
  {
   "cell_type": "code",
   "execution_count": 84,
   "id": "fa758077",
   "metadata": {},
   "outputs": [
    {
     "data": {
      "text/plain": [
       "[13, 205, 116, 25, 64, 72]"
      ]
     },
     "execution_count": 84,
     "metadata": {},
     "output_type": "execute_result"
    }
   ],
   "source": [
    "summary_qiskit(qc)"
   ]
  },
  {
   "cell_type": "code",
   "execution_count": 113,
   "id": "85cca39d",
   "metadata": {},
   "outputs": [
    {
     "name": "stderr",
     "output_type": "stream",
     "text": [
      "C:\\Users\\syj43\\AppData\\Local\\Temp\\ipykernel_20404\\826128710.py:22: DeprecationWarning: The return type of saved statevectors has been changed from a `numpy.ndarray` to a `qiskit.quantum_info.Statevector` as of qiskit-aer 0.10. Accessing numpy array attributes is deprecated and will result in an error in a future release. To continue using saved result objects as arrays you can explicitly cast them using  `np.asarray(object)`.\n",
      "  len(statevector)\n"
     ]
    },
    {
     "data": {
      "text/plain": [
       "8192"
      ]
     },
     "execution_count": 113,
     "metadata": {},
     "output_type": "execute_result"
    }
   ],
   "source": [
    "# Transpile and simulate\n",
    "def qiskit_transpiler(qc, level=2): # for lev. 2 and 3\n",
    "    if level in [0, 1]:\n",
    "        backend = Aer.get_backend('qasm_simulator')\n",
    "        transpiled_qiskit = transpile(qc, backend, optimization_level=level)\n",
    "        result = backend.run(transpiled_qiskit).result()\n",
    "        statevector = result.get_statevector(qc)\n",
    "        return  transpiled_qiskit, statevector\n",
    "    elif level in [2, 3]:\n",
    "        backend = Aer.get_backend('statevector_simulator')\n",
    "        qc.data = [inst for inst in qc.data if inst.operation.name != 'save_statevector']\n",
    "        basis_gates = ['cz', 'cx', 'rz', 'ry', 'rx', 'sx', 'x']\n",
    "        transpiled_qiskit = transpile(qc, backend=backend, basis_gates=basis_gates, optimization_level=level)\n",
    "        result = backend.run(transpiled_qiskit).result()\n",
    "        statevector = result.get_statevector()\n",
    "        return transpiled_qiskit, statevector\n",
    "    else:\n",
    "        print('check the optimization level')\n",
    "\n",
    "# Run it\n",
    "transpiled_qiskit, statevector = qiskit_transpiler(qc, level=0)\n",
    "len(statevector)\n"
   ]
  },
  {
   "cell_type": "code",
   "execution_count": 86,
   "id": "98b478d6-2eb7-4721-9db3-2b08673c4c2e",
   "metadata": {},
   "outputs": [
    {
     "data": {
      "text/plain": [
       "<QNode: device='<default.qubit device (wires=13) at 0x24fe161d180>', interface='auto', diff_method='best'>"
      ]
     },
     "execution_count": 86,
     "metadata": {},
     "output_type": "execute_result"
    }
   ],
   "source": [
    "def penny_from_qiskit(qc):\n",
    "    pc_penny = qml.from_qiskit(qc)\n",
    "    num_q = qc.num_qubits\n",
    "    dev = qml.device(\"default.qubit\", wires=num_q)\n",
    "    @qml.qnode(dev)\n",
    "    def circuit():\n",
    "        pc_penny(wires=range(num_q))\n",
    "        return qml.state()\n",
    "\n",
    "    return circuit\n",
    "\n",
    "penny_from_qiskit(qc)"
   ]
  },
  {
   "cell_type": "code",
   "execution_count": 114,
   "id": "99ad85eb-9848-4247-8e83-c9e12e4a2c04",
   "metadata": {},
   "outputs": [],
   "source": [
    "def make_table(qc): # takes qiskit circuits\n",
    "    df = pd.DataFrame(columns=['original','qiskit_0','qiskit_1','qiskit_2','qiskit_3','penny'])\n",
    "    \n",
    "    df['original'] = summary_qiskit(qc)\n",
    "    qc0 = copy.deepcopy(qc)\n",
    "    qc1 = copy.deepcopy(qc)\n",
    "    qc2 = copy.deepcopy(qc)\n",
    "    qc3 = copy.deepcopy(qc)\n",
    "\n",
    "    transpiled_qiskit_0, statevector_0 = qiskit_transpiler(qc0,0)\n",
    "    df['qiskit_0'] = list(map(int,summary_qiskit(transpiled_qiskit_0)))\n",
    "    transpiled_qiskit_1, statevector_1 = qiskit_transpiler(qc1,1)\n",
    "    df['qiskit_1'] = list(map(int,summary_qiskit(transpiled_qiskit_1)))\n",
    "    transpiled_qiskit_2, statevector_2 = qiskit_transpiler(qc2,2)\n",
    "    df['qiskit_2'] = list(map(int,summary_qiskit(transpiled_qiskit_2)))\n",
    "    transpiled_qiskit_3, statevector_3 = qiskit_transpiler(qc3,3)\n",
    "    df['qiskit_3'] = list(map(int,summary_qiskit(transpiled_qiskit_3)))\n",
    "    \n",
    "    penny = penny_from_qiskit(qc)\n",
    "    transpiled_penny  = compile(penny)\n",
    "    df['penny'] = summary_penny(transpiled_penny)\n",
    "    \n",
    "    df.index = ['qubits', 'gates', '1q gates', '2q gates', 'unitary','depth']\n",
    "    return transpiled_qiskit_0, statevector_0, transpiled_qiskit_1, statevector_1, transpiled_qiskit_2, statevector_2, transpiled_qiskit_3, statevector_3, transpiled_penny, df"
   ]
  },
  {
   "cell_type": "code",
   "execution_count": 115,
   "id": "4296e1b8-59af-415f-85f6-193c440f2622",
   "metadata": {},
   "outputs": [
    {
     "name": "stderr",
     "output_type": "stream",
     "text": [
      "c:\\Users\\syj43\\AppData\\Local\\Programs\\Python\\Python310\\lib\\site-packages\\pennylane_qiskit\\converter.py:581: UserWarning: pennylane_qiskit.converter: The SaveStatevector instruction is not supported by PennyLane, and has not been added to the template.\n",
      "  warnings.warn(\n"
     ]
    }
   ],
   "source": [
    "transpiled_qiskit_0, statevector_0, transpiled_qiskit_1, statevector_1, transpiled_qiskit_2, statevector_2, transpiled_qiskit_3, statevector_3, transpiled_penny, df = make_table(qc)"
   ]
  },
  {
   "cell_type": "code",
   "execution_count": 116,
   "id": "ac9bcb32",
   "metadata": {},
   "outputs": [
    {
     "data": {
      "text/html": [
       "<div>\n",
       "<style scoped>\n",
       "    .dataframe tbody tr th:only-of-type {\n",
       "        vertical-align: middle;\n",
       "    }\n",
       "\n",
       "    .dataframe tbody tr th {\n",
       "        vertical-align: top;\n",
       "    }\n",
       "\n",
       "    .dataframe thead th {\n",
       "        text-align: right;\n",
       "    }\n",
       "</style>\n",
       "<table border=\"1\" class=\"dataframe\">\n",
       "  <thead>\n",
       "    <tr style=\"text-align: right;\">\n",
       "      <th></th>\n",
       "      <th>original</th>\n",
       "      <th>qiskit_0</th>\n",
       "      <th>qiskit_1</th>\n",
       "      <th>qiskit_2</th>\n",
       "      <th>qiskit_3</th>\n",
       "      <th>penny</th>\n",
       "    </tr>\n",
       "  </thead>\n",
       "  <tbody>\n",
       "    <tr>\n",
       "      <th>qubits</th>\n",
       "      <td>13</td>\n",
       "      <td>13</td>\n",
       "      <td>13</td>\n",
       "      <td>13</td>\n",
       "      <td>13</td>\n",
       "      <td>12</td>\n",
       "    </tr>\n",
       "    <tr>\n",
       "      <th>gates</th>\n",
       "      <td>205</td>\n",
       "      <td>205</td>\n",
       "      <td>145</td>\n",
       "      <td>574</td>\n",
       "      <td>574</td>\n",
       "      <td>147</td>\n",
       "    </tr>\n",
       "    <tr>\n",
       "      <th>1q gates</th>\n",
       "      <td>116</td>\n",
       "      <td>116</td>\n",
       "      <td>62</td>\n",
       "      <td>445</td>\n",
       "      <td>445</td>\n",
       "      <td>64</td>\n",
       "    </tr>\n",
       "    <tr>\n",
       "      <th>2q gates</th>\n",
       "      <td>25</td>\n",
       "      <td>25</td>\n",
       "      <td>19</td>\n",
       "      <td>129</td>\n",
       "      <td>129</td>\n",
       "      <td>19</td>\n",
       "    </tr>\n",
       "    <tr>\n",
       "      <th>unitary</th>\n",
       "      <td>64</td>\n",
       "      <td>64</td>\n",
       "      <td>64</td>\n",
       "      <td>0</td>\n",
       "      <td>0</td>\n",
       "      <td>64</td>\n",
       "    </tr>\n",
       "    <tr>\n",
       "      <th>depth</th>\n",
       "      <td>72</td>\n",
       "      <td>72</td>\n",
       "      <td>59</td>\n",
       "      <td>201</td>\n",
       "      <td>201</td>\n",
       "      <td>60</td>\n",
       "    </tr>\n",
       "  </tbody>\n",
       "</table>\n",
       "</div>"
      ],
      "text/plain": [
       "          original  qiskit_0  qiskit_1  qiskit_2  qiskit_3  penny\n",
       "qubits          13        13        13        13        13     12\n",
       "gates          205       205       145       574       574    147\n",
       "1q gates       116       116        62       445       445     64\n",
       "2q gates        25        25        19       129       129     19\n",
       "unitary         64        64        64         0         0     64\n",
       "depth           72        72        59       201       201     60"
      ]
     },
     "execution_count": 116,
     "metadata": {},
     "output_type": "execute_result"
    }
   ],
   "source": [
    "df"
   ]
  },
  {
   "cell_type": "code",
   "execution_count": 118,
   "id": "0bc83d6e-a610-4a4b-938e-d7bd2e77f89c",
   "metadata": {},
   "outputs": [],
   "source": [
    "def summary_qiskit_fidelity(transpiled_state, ref_state):\n",
    "    return int(fidelity_qiskit(transpiled_state, ref_state))"
   ]
  },
  {
   "cell_type": "code",
   "execution_count": 124,
   "id": "81999a03",
   "metadata": {},
   "outputs": [
    {
     "data": {
      "text/plain": [
       "1"
      ]
     },
     "execution_count": 124,
     "metadata": {},
     "output_type": "execute_result"
    }
   ],
   "source": [
    "summary_qiskit_fidelity(statevector_3, ref_state)"
   ]
  },
  {
   "cell_type": "code",
   "execution_count": 125,
   "id": "ee0316fb",
   "metadata": {},
   "outputs": [],
   "source": [
    "def summary_penny_fidelity(transpiled_circuit, circuit):\n",
    "    num_q_original = qml.specs(transpiled_circuit)()['resources'].num_wires\n",
    "    num_q_transpiled = qml.specs(circuit)()['resources'].num_wires\n",
    "    print(num_q_original, num_q_transpiled)\n",
    "    if num_q_original == num_q_transpiled:\n",
    "        return fidelity_penny(transpiled_circuit, circuit)\n",
    "    else:\n",
    "        return None"
   ]
  },
  {
   "cell_type": "code",
   "execution_count": 128,
   "id": "b0c2e3df-4a88-4588-ba68-bbf15ebbc666",
   "metadata": {},
   "outputs": [
    {
     "name": "stdout",
     "output_type": "stream",
     "text": [
      "         original  qiskit_0  qiskit_1  qiskit_2  qiskit_3 penny\n",
      "qubits         13        13        13        13        13    12\n",
      "gates         205       205       145       574       574   147\n",
      "1q gates      116       116        62       445       445    64\n",
      "2q gates       25        25        19       129       129    19\n",
      "unitary        64        64        64         0         0    64\n",
      "depth          72        72        59       201       201    60\n",
      "fidelity        -         1         1         1         1      \n"
     ]
    }
   ],
   "source": [
    "# New row as a dictionary\n",
    "new_row = {\n",
    "        'original':'-', \n",
    "        'qiskit_0':summary_qiskit_fidelity(statevector_0, ref_state), \n",
    "        'qiskit_1':summary_qiskit_fidelity(statevector_1, ref_state), \n",
    "        'qiskit_2':summary_qiskit_fidelity(statevector_2, ref_state), \n",
    "        'qiskit_3':summary_qiskit_fidelity(statevector_3, ref_state), \n",
    "        'penny':''\n",
    "           }\n",
    "df = pd.concat([df, pd.DataFrame([new_row], index=['fidelity'])], ignore_index=False)\n",
    "print(df)"
   ]
  },
  {
   "cell_type": "code",
   "execution_count": null,
   "id": "5072ec58",
   "metadata": {},
   "outputs": [],
   "source": []
  }
 ],
 "metadata": {
  "kernelspec": {
   "display_name": "Python 3",
   "language": "python",
   "name": "python3"
  },
  "language_info": {
   "codemirror_mode": {
    "name": "ipython",
    "version": 3
   },
   "file_extension": ".py",
   "mimetype": "text/x-python",
   "name": "python",
   "nbconvert_exporter": "python",
   "pygments_lexer": "ipython3",
   "version": "3.10.0"
  }
 },
 "nbformat": 4,
 "nbformat_minor": 5
}
