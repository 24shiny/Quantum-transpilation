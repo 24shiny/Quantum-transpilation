{
 "cells": [
  {
   "cell_type": "code",
   "execution_count": 60,
   "id": "309c0077-ccca-429d-8457-1c11b7ea3fdd",
   "metadata": {},
   "outputs": [],
   "source": [
    "# basics\n",
    "import numpy as np\n",
    "import matplotlib.pyplot as plt\n",
    "import pandas as pd\n",
    "# penny\n",
    "import pennylane as qml\n",
    "from pennylane.transforms import compile\n",
    "from pennylane.math import fidelity_statevector as fidelity_penny\n",
    "# qiskit\n",
    "from qiskit import QuantumCircuit, transpile\n",
    "from qiskit.circuit import Gate\n",
    "from qiskit_aer import Aer\n",
    "from qiskit.visualization import plot_circuit_layout, circuit_drawer\n",
    "from qiskit.circuit.library import UnitaryGate\n",
    "from qiskit.quantum_info import Statevector\n",
    "from qiskit.quantum_info import state_fidelity as fidelity_qiskit\n",
    "from math import pi\n",
    "import copy"
   ]
  },
  {
   "cell_type": "code",
   "execution_count": 13,
   "id": "9242ad06-af6e-439e-b0c1-f9ec8cddc839",
   "metadata": {},
   "outputs": [],
   "source": [
    "[ds] = qml.data.load(\"ketgpt\")\n",
    "@qml.qnode(qml.device('default.qubit'))\n",
    "def circuit(): # 0 to 999\n",
    "    for op in ds.circuits[0]:\n",
    "        qml.apply(op)\n",
    "    return qml.state()"
   ]
  },
  {
   "cell_type": "code",
   "execution_count": 14,
   "id": "eaaaf353-7fb2-46e4-86b2-9691da1ba546",
   "metadata": {},
   "outputs": [
    {
     "data": {
      "text/plain": [
       "[13, 205, 116, 89, 72]"
      ]
     },
     "execution_count": 14,
     "metadata": {},
     "output_type": "execute_result"
    }
   ],
   "source": [
    "def summary_penny(circuit):\n",
    "    obj = qml.specs(circuit)()['resources']\n",
    "    return [obj.num_wires, obj.num_gates, obj.gate_sizes[1], obj.gate_sizes[2], obj.depth]\n",
    "    \n",
    "summary_penny(circuit)"
   ]
  },
  {
   "cell_type": "code",
   "execution_count": 16,
   "id": "fcdcb2a9-7178-4ffe-a56b-224a5eed3e27",
   "metadata": {},
   "outputs": [
    {
     "data": {
      "text/plain": [
       "[12, 147, 64, 83, 60]"
      ]
     },
     "execution_count": 16,
     "metadata": {},
     "output_type": "execute_result"
    }
   ],
   "source": [
    "# compile\n",
    "transpiled_circuit = compile(circuit)\n",
    "summary_penny(transpiled_circuit)"
   ]
  },
  {
   "cell_type": "raw",
   "id": "9880ae12-2add-4785-8301-add643ecea5f",
   "metadata": {},
   "source": [
    "PennyLane to Qiskit"
   ]
  },
  {
   "cell_type": "code",
   "execution_count": 3,
   "id": "b55ac549-42e2-4ccf-b9ee-d9982d1b4d47",
   "metadata": {},
   "outputs": [
    {
     "data": {
      "text/plain": [
       "[{'name': 'Hadamard', 'wires': [0], 'params': []},\n",
       " {'name': 'Hadamard', 'wires': [1], 'params': []},\n",
       " {'name': 'Hadamard', 'wires': [2], 'params': []}]"
      ]
     },
     "execution_count": 3,
     "metadata": {},
     "output_type": "execute_result"
    }
   ],
   "source": [
    "gate_name = []\n",
    "gate_info = []\n",
    "for op in ds.circuits[0]:\n",
    "    name = op.name\n",
    "    gate_name.append(name)\n",
    "    wires = [int(w) for w in op.wires]\n",
    "    params = op.parameters\n",
    "    gate_info.append({\n",
    "        \"name\": name,\n",
    "        \"wires\": wires,\n",
    "        \"params\": params,\n",
    "    })\n",
    "    \n",
    "gate_info[:3]"
   ]
  },
  {
   "cell_type": "code",
   "execution_count": 4,
   "id": "0654eab4-ae5e-427d-8e9f-9c6f5bcc0645",
   "metadata": {},
   "outputs": [],
   "source": [
    "def to_qiskit(dict_elem):\n",
    "    name = dict_elem['name']\n",
    "    wire = dict_elem['wires']\n",
    "    param = dict_elem['params']\n",
    "    if name == 'Hadamard':\n",
    "        qc.h(wire[0])\n",
    "    if name == 'PauliX':\n",
    "        qc.x(wire[0])\n",
    "    if name == 'PauliY':\n",
    "        qc.y(wire[0])\n",
    "    if name == 'PauliZ':\n",
    "        qc.z(wire[0])\n",
    "    if name == 'CNOT':\n",
    "        qc.cx(wire[0],wire[1])\n",
    "    if name == 'CX':\n",
    "        qc.cx(wire[0],wire[1])  \n",
    "    if name == 'CY':\n",
    "        qc.cy(wire[0],wire[1])  \n",
    "    if name == 'CZ':\n",
    "        qc.cz(wire[0],wire[1])    \n",
    "    if name == 'QubitUnitary':\n",
    "        qc.append(UnitaryGate(param[0]),wire)\n",
    "    if name == 'U2':\n",
    "        qc.u(pi/2, param[0], param[1], wire[0])"
   ]
  },
  {
   "cell_type": "code",
   "execution_count": 57,
   "id": "e9db4086-ddb1-4895-8f93-8ce12ce54924",
   "metadata": {},
   "outputs": [
    {
     "data": {
      "text/plain": [
       "<qiskit.circuit.instructionset.InstructionSet at 0x2036087ba90>"
      ]
     },
     "execution_count": 57,
     "metadata": {},
     "output_type": "execute_result"
    }
   ],
   "source": [
    "sample_q_num = qml.specs(circuit)()['resources'].num_wires\n",
    "qc = QuantumCircuit(sample_q_num)\n",
    "for dict_elem in gate_info:\n",
    "    to_qiskit(dict_elem)\n",
    "qc.save_statevector()"
   ]
  },
  {
   "cell_type": "code",
   "execution_count": 58,
   "id": "934e564b-2b49-4514-87a9-5e3615616372",
   "metadata": {},
   "outputs": [],
   "source": [
    "def summary_qiskit(qc):\n",
    "    counts = {\"1-qubit\": 0, \"2-qubit\": 0}\n",
    "    for inst in qc.data:\n",
    "        if isinstance(inst.operation, Gate):  \n",
    "            num_qubits = len(inst.qubits)\n",
    "            if num_qubits == 1:\n",
    "                counts[\"1-qubit\"] += 1\n",
    "            elif num_qubits == 2:\n",
    "                counts[\"2-qubit\"] += 1\n",
    "    return [qc.num_qubits, qc.size(), counts['1-qubit'], counts['2-qubit'], qc.depth()]"
   ]
  },
  {
   "cell_type": "code",
   "execution_count": 59,
   "id": "f9115434-2b86-41ed-b784-42d0a766cae7",
   "metadata": {},
   "outputs": [],
   "source": [
    "# qiskit compiler\n",
    "def qiskit_transpiler(qc, level=2):\n",
    "    # Transpile with qiskit\n",
    "    # qc.save_statevector()\n",
    "    backend = Aer.get_backend('qasm_simulator')\n",
    "    transpiled_qiskit = transpile(qc, backend, optimization_level=level)\n",
    "    result = backend.run(transpiled_qiskit).result()\n",
    "    transpiled_state = result.get_statevector()\n",
    "    return transpiled_qiskit"
   ]
  },
  {
   "cell_type": "code",
   "execution_count": 70,
   "id": "98b478d6-2eb7-4721-9db3-2b08673c4c2e",
   "metadata": {},
   "outputs": [
    {
     "data": {
      "text/plain": [
       "<QNode: device='<default.qubit device (wires=13) at 0x20363a75180>', interface='auto', diff_method='best'>"
      ]
     },
     "execution_count": 70,
     "metadata": {},
     "output_type": "execute_result"
    }
   ],
   "source": [
    "def penny_from_qiskit(qc):\n",
    "    pc_penny = qml.from_qiskit(qc)\n",
    "    num_q = qc.num_qubits\n",
    "    dev = qml.device(\"default.qubit\", wires=num_q)\n",
    "    \n",
    "    @qml.qnode(dev)\n",
    "    def circuit():\n",
    "        pc_penny(wires=range(num_q))\n",
    "        return qml.state()\n",
    "\n",
    "    return circuit\n",
    "\n",
    "penny_from_qiskit(qc)"
   ]
  },
  {
   "cell_type": "code",
   "execution_count": 73,
   "id": "99ad85eb-9848-4247-8e83-c9e12e4a2c04",
   "metadata": {},
   "outputs": [],
   "source": [
    "def make_table(qc): # takes qiskit circuits\n",
    "    df = pd.DataFrame(columns=['original','qiskit_2','qiskit_3','penny'])\n",
    "    \n",
    "    df['original'] = summary_qiskit(qc)\n",
    "    qc2 = copy.deepcopy(qc)\n",
    "    qc3 = copy.deepcopy(qc)\n",
    "    # code to get the ranspiled circuits\n",
    "    transpiled_qiskit_2 = qiskit_transpiler(qc2,2)\n",
    "    df['qiskit_2'] = summary_qiskit(transpiled_qiskit_2)\n",
    "    transpiled_qiskit_3 = qiskit_transpiler(qc3,3)\n",
    "    df['qiskit_3'] = summary_qiskit(transpiled_qiskit_3)\n",
    "    \n",
    "    penny = penny_from_qiskit(qc)\n",
    "    transpiled_penny  = compile(penny)\n",
    "    df['penny'] = summary_penny(transpiled_penny)\n",
    "    \n",
    "    df.index = ['qubits', 'gates', '1q gates', '2q gates', 'depth']\n",
    "    print(df)"
   ]
  },
  {
   "cell_type": "code",
   "execution_count": 74,
   "id": "4296e1b8-59af-415f-85f6-193c440f2622",
   "metadata": {},
   "outputs": [
    {
     "name": "stdout",
     "output_type": "stream",
     "text": [
      "          original  qiskit_2  qiskit_3  penny\n",
      "qubits          13        13        13     12\n",
      "gates          205       145       145    147\n",
      "1q gates       116        62        62     64\n",
      "2q gates        89        83        83     83\n",
      "depth           72        59        59     60\n"
     ]
    },
    {
     "name": "stderr",
     "output_type": "stream",
     "text": [
      "C:\\Users\\syj43\\AppData\\Local\\Programs\\Python\\Python310\\lib\\site-packages\\pennylane_qiskit\\converter.py:582: UserWarning: pennylane_qiskit.converter: The SaveStatevector instruction is not supported by PennyLane, and has not been added to the template.\n",
      "  warnings.warn(\n"
     ]
    }
   ],
   "source": [
    "make_table(qc)"
   ]
  },
  {
   "cell_type": "code",
   "execution_count": null,
   "id": "481b557a-04b8-4948-a936-cddfd764a54e",
   "metadata": {},
   "outputs": [],
   "source": []
  }
 ],
 "metadata": {
  "kernelspec": {
   "display_name": "Python 3 (ipykernel)",
   "language": "python",
   "name": "python3"
  },
  "language_info": {
   "codemirror_mode": {
    "name": "ipython",
    "version": 3
   },
   "file_extension": ".py",
   "mimetype": "text/x-python",
   "name": "python",
   "nbconvert_exporter": "python",
   "pygments_lexer": "ipython3",
   "version": "3.10.0"
  }
 },
 "nbformat": 4,
 "nbformat_minor": 5
}
